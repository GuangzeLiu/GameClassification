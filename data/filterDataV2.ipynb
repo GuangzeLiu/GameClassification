{
  "nbformat": 4,
  "nbformat_minor": 0,
  "metadata": {
    "colab": {
      "provenance": []
    },
    "kernelspec": {
      "name": "python3",
      "display_name": "Python 3"
    },
    "language_info": {
      "name": "python"
    }
  },
  "cells": [
    {
      "cell_type": "code",
      "execution_count": 1,
      "metadata": {
        "id": "oth89a066B2H"
      },
      "outputs": [],
      "source": [
        "import numpy as np # linear algebra\n",
        "import pandas as pd # data processing, CSV file I/O (e.g. pd.read_csv)\n",
        "import string"
      ]
    },
    {
      "cell_type": "code",
      "source": [
        "df = pd.read_csv('steam_reviews.csv')\n",
        "# group the data by app_id \n",
        "grouped_data = df.groupby('app_id')\n",
        "# create an empty dataframe to store the selected data\n",
        "selected_data = pd.DataFrame()\n",
        "# loop through each group and select the first 5000 rows\n",
        "for name, group in grouped_data:\n",
        "    selected_group = group.head(5000)\n",
        "    selected_data = selected_data.append(selected_group)\n",
        "\n",
        "# save the selected data to a new csv file\n",
        "df=selected_data\n",
        "print(\"Len: \" + str(len(df)))"
      ],
      "metadata": {
        "id": "bwHPQVyu6DO5"
      },
      "execution_count": null,
      "outputs": []
    },
    {
      "cell_type": "code",
      "source": [
        "df.to_csv('5000.csv', index=False)"
      ],
      "metadata": {
        "id": "k12GZ46O6QgV"
      },
      "execution_count": null,
      "outputs": []
    }
  ]
}