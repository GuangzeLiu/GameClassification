{
  "cells": [
    {
      "cell_type": "code",
      "execution_count": null,
      "id": "8d692b2a",
      "metadata": {
        "id": "8d692b2a"
      },
      "outputs": [],
      "source": [
        "import numpy as np \n",
        "import pandas as pd \n",
        "\n",
        "import string"
      ]
    },
    {
      "cell_type": "code",
      "execution_count": null,
      "id": "b23c32d3",
      "metadata": {
        "id": "b23c32d3",
        "outputId": "4eb9ccf6-0815-4145-bc1b-f9b0d47fb28f"
      },
      "outputs": [
        {
          "name": "stdout",
          "output_type": "stream",
          "text": [
            "Len: 21747371\n"
          ]
        }
      ],
      "source": [
        "df = pd.read_csv('steam_reviews.csv')\n",
        "\n",
        "print(\"Len: \" + str(len(df)))"
      ]
    },
    {
      "cell_type": "code",
      "execution_count": null,
      "id": "fe328b68",
      "metadata": {
        "id": "fe328b68",
        "outputId": "a4abc783-c50d-448b-e8ee-2e6501fc025f"
      },
      "outputs": [
        {
          "name": "stdout",
          "output_type": "stream",
          "text": [
            "Len: 87367\n"
          ]
        }
      ],
      "source": [
        "filtered_data = df[(df['language'] == 'english')]\n",
        "filtered_data = filtered_data[(filtered_data['author.playtime_at_review'] >= 1000)& (filtered_data['author.num_games_owned'] > 1000)]\n",
        "print(\"Len: \" + str(len(filtered_data)))"
      ]
    },
    {
      "cell_type": "code",
      "execution_count": null,
      "id": "c929977d",
      "metadata": {
        "id": "c929977d"
      },
      "outputs": [],
      "source": [
        "filtered_data.to_csv('1000^2.csv', index=False)"
      ]
    },
    {
      "cell_type": "code",
      "execution_count": null,
      "id": "48e38496",
      "metadata": {
        "id": "48e38496",
        "outputId": "f6b0639c-429e-4728-ed7d-aecb8d3d336e"
      },
      "outputs": [
        {
          "name": "stdout",
          "output_type": "stream",
          "text": [
            "Len: 17936\n"
          ]
        }
      ],
      "source": [
        "filtered_data = df[(df['language'] == 'english')]\n",
        "filtered_data = filtered_data[(filtered_data['author.playtime_at_review'] >= 1000)& (filtered_data['author.num_games_owned'] > 2000)]\n",
        "print(\"Len: \" + str(len(filtered_data)))"
      ]
    },
    {
      "cell_type": "code",
      "execution_count": null,
      "id": "a010ba4a",
      "metadata": {
        "id": "a010ba4a"
      },
      "outputs": [],
      "source": [
        "filtered_data.to_csv('zishen1000_2000.csv', index=False)"
      ]
    },
    {
      "cell_type": "code",
      "execution_count": null,
      "id": "dc3cf866",
      "metadata": {
        "id": "dc3cf866",
        "outputId": "a08fcf61-7b37-45a8-e27e-287cd2533ad8"
      },
      "outputs": [
        {
          "name": "stdout",
          "output_type": "stream",
          "text": [
            "Len: 8904\n"
          ]
        }
      ],
      "source": [
        "filtered_data = df[(df['language'] == 'english')]\n",
        "filtered_data = filtered_data[(filtered_data['author.playtime_at_review'] >= 100)& (filtered_data['author.num_games_owned'] > 1000) &\n",
        "                            (filtered_data['votes_helpful'] >= 10) & (filtered_data['author.playtime_forever'] >= 1000)]\n",
        "print(\"Len: \" + str(len(filtered_data)))"
      ]
    },
    {
      "cell_type": "code",
      "execution_count": null,
      "id": "64057680",
      "metadata": {
        "id": "64057680"
      },
      "outputs": [],
      "source": [
        "filtered_data.to_csv('100_1000_10_1000.csv', index=False)"
      ]
    },
    {
      "cell_type": "code",
      "execution_count": null,
      "id": "6f2d0872",
      "metadata": {
        "id": "6f2d0872"
      },
      "outputs": [],
      "source": []
    }
  ],
  "metadata": {
    "kernelspec": {
      "display_name": "Python 3 (ipykernel)",
      "language": "python",
      "name": "python3"
    },
    "language_info": {
      "codemirror_mode": {
        "name": "ipython",
        "version": 3
      },
      "file_extension": ".py",
      "mimetype": "text/x-python",
      "name": "python",
      "nbconvert_exporter": "python",
      "pygments_lexer": "ipython3",
      "version": "3.8.8"
    },
    "colab": {
      "provenance": []
    }
  },
  "nbformat": 4,
  "nbformat_minor": 5
}